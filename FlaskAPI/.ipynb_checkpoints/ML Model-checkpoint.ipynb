{
 "cells": [
  {
   "cell_type": "markdown",
   "id": "01b37c1d-6c89-4b59-ad66-c76ce57d2fa4",
   "metadata": {},
   "source": [
    "# Importing Libraries."
   ]
  },
  {
   "cell_type": "code",
   "execution_count": 1,
   "id": "c0cc5b61-37c7-4d33-b2f1-6289d1d2570f",
   "metadata": {},
   "outputs": [],
   "source": [
    "import pandas as pd\n",
    "import numpy as np\n",
    "from sklearn.preprocessing import LabelEncoder, StandardScaler"
   ]
  },
  {
   "cell_type": "code",
   "execution_count": 2,
   "id": "8de8d06e-dd3f-46e1-92f6-431da14ae3b9",
   "metadata": {},
   "outputs": [
    {
     "data": {
      "text/html": [
       "<div>\n",
       "<style scoped>\n",
       "    .dataframe tbody tr th:only-of-type {\n",
       "        vertical-align: middle;\n",
       "    }\n",
       "\n",
       "    .dataframe tbody tr th {\n",
       "        vertical-align: top;\n",
       "    }\n",
       "\n",
       "    .dataframe thead th {\n",
       "        text-align: right;\n",
       "    }\n",
       "</style>\n",
       "<table border=\"1\" class=\"dataframe\">\n",
       "  <thead>\n",
       "    <tr style=\"text-align: right;\">\n",
       "      <th></th>\n",
       "      <th>Timestamp</th>\n",
       "      <th>Age</th>\n",
       "      <th>Gender</th>\n",
       "      <th>Monthly Income</th>\n",
       "      <th>Region</th>\n",
       "      <th>Frequency of Shopping In Years</th>\n",
       "      <th>Average spending</th>\n",
       "      <th>Categories</th>\n",
       "      <th>Means of Payment</th>\n",
       "      <th>Entrolled on Jumia Prime or any loyalty program</th>\n",
       "      <th>Frequency of shopping</th>\n",
       "      <th>Rate of Satisfaction</th>\n",
       "      <th>Rate of availability of products</th>\n",
       "      <th>Reason for your purchase</th>\n",
       "      <th>Device to shop</th>\n",
       "      <th>nternet connection used</th>\n",
       "      <th>Recommendation to others</th>\n",
       "    </tr>\n",
       "  </thead>\n",
       "  <tbody>\n",
       "    <tr>\n",
       "      <th>0</th>\n",
       "      <td>10/10/2024 12:46</td>\n",
       "      <td>25-34</td>\n",
       "      <td>Male</td>\n",
       "      <td>&lt;450,000</td>\n",
       "      <td>Central</td>\n",
       "      <td>Daily, A few times a year</td>\n",
       "      <td>&lt;50,000</td>\n",
       "      <td>Electronics</td>\n",
       "      <td>Mobile Money, Cash on Delivery</td>\n",
       "      <td>No</td>\n",
       "      <td>Rarely</td>\n",
       "      <td>3</td>\n",
       "      <td>2</td>\n",
       "      <td>Convenience, Delivery speed</td>\n",
       "      <td>Smart phones, Laptops</td>\n",
       "      <td>Mobile data, Public Wi-Fi</td>\n",
       "      <td>Yes</td>\n",
       "    </tr>\n",
       "    <tr>\n",
       "      <th>1</th>\n",
       "      <td>10/10/2024 14:56</td>\n",
       "      <td>25-34</td>\n",
       "      <td>Male</td>\n",
       "      <td>None</td>\n",
       "      <td>Northern</td>\n",
       "      <td>A few times a year</td>\n",
       "      <td>50,000-100,000</td>\n",
       "      <td>Electronics</td>\n",
       "      <td>Cash on Delivery</td>\n",
       "      <td>No</td>\n",
       "      <td>Rarely</td>\n",
       "      <td>5</td>\n",
       "      <td>3</td>\n",
       "      <td>Product variety</td>\n",
       "      <td>Smart phones</td>\n",
       "      <td>Home Wi-Fi</td>\n",
       "      <td>No</td>\n",
       "    </tr>\n",
       "    <tr>\n",
       "      <th>2</th>\n",
       "      <td>10/10/2024 15:01</td>\n",
       "      <td>25-34</td>\n",
       "      <td>Male</td>\n",
       "      <td>&gt;2,000,000</td>\n",
       "      <td>Western</td>\n",
       "      <td>A few times a year</td>\n",
       "      <td>50,000-100,000</td>\n",
       "      <td>Electronics</td>\n",
       "      <td>Mobile Money, Cash on Delivery</td>\n",
       "      <td>No</td>\n",
       "      <td>Rarely</td>\n",
       "      <td>3</td>\n",
       "      <td>3</td>\n",
       "      <td>Price, Convenience, Discounts/offers</td>\n",
       "      <td>Smart phones</td>\n",
       "      <td>Mobile data</td>\n",
       "      <td>Yes</td>\n",
       "    </tr>\n",
       "    <tr>\n",
       "      <th>3</th>\n",
       "      <td>10/10/2024 15:03</td>\n",
       "      <td>35-44</td>\n",
       "      <td>Male</td>\n",
       "      <td>450,000-1,000,000</td>\n",
       "      <td>Central</td>\n",
       "      <td>A few times a year</td>\n",
       "      <td>&lt;50,000</td>\n",
       "      <td>Health &amp; Beauty</td>\n",
       "      <td>Cash on Delivery</td>\n",
       "      <td>No</td>\n",
       "      <td>Rarely</td>\n",
       "      <td>1</td>\n",
       "      <td>3</td>\n",
       "      <td>Price</td>\n",
       "      <td>Smart phones</td>\n",
       "      <td>Mobile data</td>\n",
       "      <td>Yes</td>\n",
       "    </tr>\n",
       "    <tr>\n",
       "      <th>4</th>\n",
       "      <td>10/10/2024 15:04</td>\n",
       "      <td>25-34</td>\n",
       "      <td>Male</td>\n",
       "      <td>None</td>\n",
       "      <td>Northern</td>\n",
       "      <td>A few times a year</td>\n",
       "      <td>50,000-100,000</td>\n",
       "      <td>Electronics</td>\n",
       "      <td>Mobile Money</td>\n",
       "      <td>No</td>\n",
       "      <td>Occassionally</td>\n",
       "      <td>3</td>\n",
       "      <td>3</td>\n",
       "      <td>Convenience</td>\n",
       "      <td>Smart phones</td>\n",
       "      <td>Mobile data</td>\n",
       "      <td>Yes</td>\n",
       "    </tr>\n",
       "  </tbody>\n",
       "</table>\n",
       "</div>"
      ],
      "text/plain": [
       "          Timestamp    Age Gender     Monthly Income    Region  \\\n",
       "0  10/10/2024 12:46  25-34   Male           <450,000   Central   \n",
       "1  10/10/2024 14:56  25-34   Male               None  Northern   \n",
       "2  10/10/2024 15:01  25-34   Male         >2,000,000   Western   \n",
       "3  10/10/2024 15:03  35-44   Male  450,000-1,000,000   Central   \n",
       "4  10/10/2024 15:04  25-34   Male               None  Northern   \n",
       "\n",
       "  Frequency of Shopping In Years Average spending        Categories  \\\n",
       "0      Daily, A few times a year           <50,000      Electronics   \n",
       "1             A few times a year    50,000-100,000      Electronics   \n",
       "2             A few times a year    50,000-100,000      Electronics   \n",
       "3             A few times a year           <50,000  Health & Beauty   \n",
       "4             A few times a year    50,000-100,000      Electronics   \n",
       "\n",
       "                 Means of Payment  \\\n",
       "0  Mobile Money, Cash on Delivery   \n",
       "1                Cash on Delivery   \n",
       "2  Mobile Money, Cash on Delivery   \n",
       "3                Cash on Delivery   \n",
       "4                    Mobile Money   \n",
       "\n",
       "  Entrolled on Jumia Prime or any loyalty program   Frequency of shopping    \\\n",
       "0                                              No                    Rarely   \n",
       "1                                              No                    Rarely   \n",
       "2                                              No                    Rarely   \n",
       "3                                              No                    Rarely   \n",
       "4                                              No             Occassionally   \n",
       "\n",
       "     Rate of Satisfaction  Rate of availability of products   \\\n",
       "0                       3                                  2   \n",
       "1                       5                                  3   \n",
       "2                       3                                  3   \n",
       "3                       1                                  3   \n",
       "4                       3                                  3   \n",
       "\n",
       "               Reason for your purchase         Device to shop  \\\n",
       "0           Convenience, Delivery speed  Smart phones, Laptops   \n",
       "1                       Product variety           Smart phones   \n",
       "2  Price, Convenience, Discounts/offers           Smart phones   \n",
       "3                                 Price           Smart phones   \n",
       "4                           Convenience           Smart phones   \n",
       "\n",
       "    nternet connection used  Recommendation to others  \n",
       "0  Mobile data, Public Wi-Fi                      Yes  \n",
       "1                 Home Wi-Fi                       No  \n",
       "2                Mobile data                      Yes  \n",
       "3                Mobile data                      Yes  \n",
       "4                Mobile data                      Yes  "
      ]
     },
     "execution_count": 2,
     "metadata": {},
     "output_type": "execute_result"
    }
   ],
   "source": [
    "# Load dataset\n",
    "df = pd.read_csv('System Data.csv')\n",
    "df.head()\n"
   ]
  },
  {
   "cell_type": "markdown",
   "id": "d0981f21-b6ce-489d-932e-26af8076f1a2",
   "metadata": {},
   "source": [
    "# Data Cleaning"
   ]
  },
  {
   "cell_type": "code",
   "execution_count": 3,
   "id": "3e8077f2-be3a-4529-b329-bd5ab3744786",
   "metadata": {},
   "outputs": [],
   "source": [
    "df.columns = df.columns.str.strip()\n",
    "df = df.drop(columns=['Timestamp'])  # Drop Timestamp as it’s not relevant for segmentation\n"
   ]
  },
  {
   "cell_type": "code",
   "execution_count": 4,
   "id": "eaf3de79-0c3c-4eac-b74d-118231fd2dd7",
   "metadata": {},
   "outputs": [],
   "source": [
    "# Define categorical and numerical columns\n",
    "categorical_cols = ['Age', 'Gender', 'Monthly Income', 'Region', 'Frequency of Shopping', \n",
    "                    'Average spending', 'Categories', 'Means of Payment', \n",
    "                    'Entrolled on Jumia Prime or any loyalty program', 'Frequency of shopping', \n",
    "                    'Reason for your purchase', 'Device to shop', 'nternet connection used', \n",
    "                    'Recommendation to others']\n",
    "numerical_cols = ['Rate of Satisfaction', 'Rate of availability of products']"
   ]
  },
  {
   "cell_type": "code",
   "execution_count": 5,
   "id": "cef1c5a7-a6fe-4776-9fc6-0349e01ed4a1",
   "metadata": {},
   "outputs": [
    {
     "ename": "KeyError",
     "evalue": "'Frequency of Shopping'",
     "output_type": "error",
     "traceback": [
      "\u001b[1;31m---------------------------------------------------------------------------\u001b[0m",
      "\u001b[1;31mKeyError\u001b[0m                                  Traceback (most recent call last)",
      "File \u001b[1;32m~\\anaconda3\\Lib\\site-packages\\pandas\\core\\indexes\\base.py:3802\u001b[0m, in \u001b[0;36mIndex.get_loc\u001b[1;34m(self, key, method, tolerance)\u001b[0m\n\u001b[0;32m   3801\u001b[0m \u001b[38;5;28;01mtry\u001b[39;00m:\n\u001b[1;32m-> 3802\u001b[0m     \u001b[38;5;28;01mreturn\u001b[39;00m \u001b[38;5;28mself\u001b[39m\u001b[38;5;241m.\u001b[39m_engine\u001b[38;5;241m.\u001b[39mget_loc(casted_key)\n\u001b[0;32m   3803\u001b[0m \u001b[38;5;28;01mexcept\u001b[39;00m \u001b[38;5;167;01mKeyError\u001b[39;00m \u001b[38;5;28;01mas\u001b[39;00m err:\n",
      "File \u001b[1;32m~\\anaconda3\\Lib\\site-packages\\pandas\\_libs\\index.pyx:138\u001b[0m, in \u001b[0;36mpandas._libs.index.IndexEngine.get_loc\u001b[1;34m()\u001b[0m\n",
      "File \u001b[1;32m~\\anaconda3\\Lib\\site-packages\\pandas\\_libs\\index.pyx:165\u001b[0m, in \u001b[0;36mpandas._libs.index.IndexEngine.get_loc\u001b[1;34m()\u001b[0m\n",
      "File \u001b[1;32mpandas\\_libs\\hashtable_class_helper.pxi:5745\u001b[0m, in \u001b[0;36mpandas._libs.hashtable.PyObjectHashTable.get_item\u001b[1;34m()\u001b[0m\n",
      "File \u001b[1;32mpandas\\_libs\\hashtable_class_helper.pxi:5753\u001b[0m, in \u001b[0;36mpandas._libs.hashtable.PyObjectHashTable.get_item\u001b[1;34m()\u001b[0m\n",
      "\u001b[1;31mKeyError\u001b[0m: 'Frequency of Shopping'",
      "\nThe above exception was the direct cause of the following exception:\n",
      "\u001b[1;31mKeyError\u001b[0m                                  Traceback (most recent call last)",
      "Cell \u001b[1;32mIn[5], line 5\u001b[0m\n\u001b[0;32m      3\u001b[0m \u001b[38;5;28;01mfor\u001b[39;00m col \u001b[38;5;129;01min\u001b[39;00m categorical_cols:\n\u001b[0;32m      4\u001b[0m     le \u001b[38;5;241m=\u001b[39m LabelEncoder()\n\u001b[1;32m----> 5\u001b[0m     df[col] \u001b[38;5;241m=\u001b[39m le\u001b[38;5;241m.\u001b[39mfit_transform(df[col]\u001b[38;5;241m.\u001b[39mastype(\u001b[38;5;28mstr\u001b[39m))  \u001b[38;5;66;03m# Convert to string to handle mixed types\u001b[39;00m\n\u001b[0;32m      6\u001b[0m     label_encoders[col] \u001b[38;5;241m=\u001b[39m le\n",
      "File \u001b[1;32m~\\anaconda3\\Lib\\site-packages\\pandas\\core\\frame.py:3807\u001b[0m, in \u001b[0;36mDataFrame.__getitem__\u001b[1;34m(self, key)\u001b[0m\n\u001b[0;32m   3805\u001b[0m \u001b[38;5;28;01mif\u001b[39;00m \u001b[38;5;28mself\u001b[39m\u001b[38;5;241m.\u001b[39mcolumns\u001b[38;5;241m.\u001b[39mnlevels \u001b[38;5;241m>\u001b[39m \u001b[38;5;241m1\u001b[39m:\n\u001b[0;32m   3806\u001b[0m     \u001b[38;5;28;01mreturn\u001b[39;00m \u001b[38;5;28mself\u001b[39m\u001b[38;5;241m.\u001b[39m_getitem_multilevel(key)\n\u001b[1;32m-> 3807\u001b[0m indexer \u001b[38;5;241m=\u001b[39m \u001b[38;5;28mself\u001b[39m\u001b[38;5;241m.\u001b[39mcolumns\u001b[38;5;241m.\u001b[39mget_loc(key)\n\u001b[0;32m   3808\u001b[0m \u001b[38;5;28;01mif\u001b[39;00m is_integer(indexer):\n\u001b[0;32m   3809\u001b[0m     indexer \u001b[38;5;241m=\u001b[39m [indexer]\n",
      "File \u001b[1;32m~\\anaconda3\\Lib\\site-packages\\pandas\\core\\indexes\\base.py:3804\u001b[0m, in \u001b[0;36mIndex.get_loc\u001b[1;34m(self, key, method, tolerance)\u001b[0m\n\u001b[0;32m   3802\u001b[0m     \u001b[38;5;28;01mreturn\u001b[39;00m \u001b[38;5;28mself\u001b[39m\u001b[38;5;241m.\u001b[39m_engine\u001b[38;5;241m.\u001b[39mget_loc(casted_key)\n\u001b[0;32m   3803\u001b[0m \u001b[38;5;28;01mexcept\u001b[39;00m \u001b[38;5;167;01mKeyError\u001b[39;00m \u001b[38;5;28;01mas\u001b[39;00m err:\n\u001b[1;32m-> 3804\u001b[0m     \u001b[38;5;28;01mraise\u001b[39;00m \u001b[38;5;167;01mKeyError\u001b[39;00m(key) \u001b[38;5;28;01mfrom\u001b[39;00m \u001b[38;5;21;01merr\u001b[39;00m\n\u001b[0;32m   3805\u001b[0m \u001b[38;5;28;01mexcept\u001b[39;00m \u001b[38;5;167;01mTypeError\u001b[39;00m:\n\u001b[0;32m   3806\u001b[0m     \u001b[38;5;66;03m# If we have a listlike key, _check_indexing_error will raise\u001b[39;00m\n\u001b[0;32m   3807\u001b[0m     \u001b[38;5;66;03m#  InvalidIndexError. Otherwise we fall through and re-raise\u001b[39;00m\n\u001b[0;32m   3808\u001b[0m     \u001b[38;5;66;03m#  the TypeError.\u001b[39;00m\n\u001b[0;32m   3809\u001b[0m     \u001b[38;5;28mself\u001b[39m\u001b[38;5;241m.\u001b[39m_check_indexing_error(key)\n",
      "\u001b[1;31mKeyError\u001b[0m: 'Frequency of Shopping'"
     ]
    }
   ],
   "source": [
    "# Encode categorical variables\n",
    "label_encoders = {}\n",
    "for col in categorical_cols:\n",
    "    le = LabelEncoder()\n",
    "    df[col] = le.fit_transform(df[col].astype(str))  # Convert to string to handle mixed types\n",
    "    label_encoders[col] = le  # Save encoders for later use"
   ]
  },
  {
   "cell_type": "code",
   "execution_count": null,
   "id": "2599f2f5",
   "metadata": {},
   "outputs": [],
   "source": [
    "# Combine features\n",
    "X = df[categorical_cols + numerical_cols]"
   ]
  },
  {
   "cell_type": "code",
   "execution_count": null,
   "id": "df8bde10-421b-47e9-ab64-ac6cc3dad225",
   "metadata": {},
   "outputs": [],
   "source": [
    "# Standardize the data (crucial for K-Means)\n",
    "scaler = StandardScaler()\n",
    "X_scaled = scaler.fit_transform(X)"
   ]
  },
  {
   "cell_type": "code",
   "execution_count": null,
   "id": "e1e8d659-7653-4b61-bb12-7769f6364a27",
   "metadata": {},
   "outputs": [],
   "source": [
    "print(\"Preprocessed data shape:\", X_scaled.shape)"
   ]
  },
  {
   "cell_type": "code",
   "execution_count": null,
   "id": "7de5c52b-4a31-4117-81e7-43cf150f4c7a",
   "metadata": {
    "jupyter": {
     "outputs_hidden": true
    }
   },
   "outputs": [],
   "source": [
    "from sklearn.cluster import KMeans\n",
    "import matplotlib.pyplot as plt\n",
    "\n",
    "# Calculate inertia for different k values\n",
    "inertia = []\n",
    "K = range(1, 10)\n",
    "for k in K:\n",
    "    kmeans = KMeans(n_clusters=k, random_state=42)\n",
    "    kmeans.fit(X_scaled)\n",
    "    inertia.append(kmeans.inertia_)\n",
    "\n",
    "# Plot the elbow curve\n",
    "plt.plot(K, inertia, 'bx-')\n",
    "plt.xlabel('Number of Clusters (k)')\n",
    "plt.ylabel('Inertia')\n",
    "plt.title('Elbow Method for Optimal k')\n",
    "plt.show()"
   ]
  },
  {
   "cell_type": "markdown",
   "id": "e21599dd-1a2c-4cb1-bf11-5b9c14f482d4",
   "metadata": {},
   "source": [
    "# Applying K-Means"
   ]
  },
  {
   "cell_type": "code",
   "execution_count": null,
   "id": "0cb7e4bc-dd13-4e55-9a74-745e76d6b23d",
   "metadata": {},
   "outputs": [],
   "source": [
    "# Apply K-Means with chosen k\n",
    "kmeans = KMeans(n_clusters=3, random_state=42)\n",
    "clusters = kmeans.fit_predict(X_scaled)\n",
    "\n",
    "# Add cluster labels to the original dataframe\n",
    "df['Cluster'] = clusters\n",
    "\n",
    "# Display the first few rows with cluster assignments\n",
    "print(\"Data with cluster labels:\")\n",
    "print(df.head())"
   ]
  },
  {
   "cell_type": "markdown",
   "id": "1cea6ca8",
   "metadata": {},
   "source": [
    "# Analyze the Clusters"
   ]
  },
  {
   "cell_type": "code",
   "execution_count": null,
   "id": "9cdd42f7-0fc3-4c5c-aac1-c9a4d6a1f6ae",
   "metadata": {},
   "outputs": [],
   "source": [
    "# Group by cluster and calculate means for numerical features\n",
    "print(\"Cluster Characteristics (Numerical Features):\")\n",
    "print(df.groupby('Cluster')[numerical_cols].mean())\n",
    "\n",
    "# Analyze categorical features (e.g., mode or counts)\n",
    "for col in categorical_cols:\n",
    "    print(f\"\\nCluster breakdown for {col}:\")\n",
    "    print(df.groupby('Cluster')[col].value_counts(normalize=True))"
   ]
  },
  {
   "cell_type": "markdown",
   "id": "8fc25211",
   "metadata": {},
   "source": [
    "# Visualize the Clusters"
   ]
  },
  {
   "cell_type": "code",
   "execution_count": null,
   "id": "7b5e46c9-e7ad-4872-875c-9bfbf3cb49e9",
   "metadata": {},
   "outputs": [],
   "source": [
    "import seaborn as sns\n",
    "\n",
    "# Scatter plot\n",
    "sns.scatterplot(x=df['Rate of Satisfaction'], y=df['Average spending'], hue=df['Cluster'], palette='deep')\n",
    "plt.xlabel('Rate of Satisfaction')\n",
    "plt.ylabel('Average Spending')\n",
    "plt.title('Customer Segments')\n",
    "plt.show()"
   ]
  },
  {
   "cell_type": "code",
   "execution_count": null,
   "id": "c356e396-dd24-4f74-a4bf-932db339b0bc",
   "metadata": {},
   "outputs": [],
   "source": [
    "import joblib\n",
    "\n",
    "# Save the K-Means model, scaler, and label encoders\n",
    "joblib.dump(kmeans, 'kmeans_model.pkl')\n",
    "joblib.dump(scaler, 'scaler.pkl')\n",
    "joblib.dump(label_encoders, 'label_encoders.pkl')\n",
    "\n",
    "print(\"K-Means model, scaler, and encoders saved successfully.\")"
   ]
  },
  {
   "cell_type": "code",
   "execution_count": null,
   "id": "88cf91a3-280d-4716-902b-ce9a0de58fb3",
   "metadata": {},
   "outputs": [],
   "source": [
    "from sklearn.cluster import KMeans\n",
    "\n",
    "# Train the K-Means model with K=4\n",
    "kmeans = KMeans(n_clusters=4, random_state=42, n_init=10)\n",
    "df['Cluster'] = kmeans.fit_predict(df)\n",
    "\n",
    "# Display first few rows with cluster assignments\n",
    "print(df[['Cluster']].head())\n"
   ]
  },
  {
   "cell_type": "code",
   "execution_count": null,
   "id": "4d579844-458f-420a-b5ca-261576836339",
   "metadata": {},
   "outputs": [],
   "source": [
    "import joblib\n",
    "\n",
    "# Load the saved files\n",
    "kmeans = joblib.load('kmeans_model.pkl')\n",
    "scaler = joblib.load('scaler.pkl')\n",
    "label_encoders = joblib.load('label_encoders.pkl')\n",
    "\n",
    "# Verify contents\n",
    "print(\"K-Means clusters:\", kmeans.n_clusters)\n",
    "print(\"Scaler mean (first few values):\", scaler.mean_[:5])\n",
    "print(\"Label encoders keys:\", list(label_encoders.keys()))"
   ]
  },
  {
   "cell_type": "code",
   "execution_count": null,
   "id": "4f20e846-05a5-4fd4-9950-4a5b59d8d43e",
   "metadata": {},
   "outputs": [],
   "source": []
  },
  {
   "cell_type": "code",
   "execution_count": null,
   "id": "7971ecc6-01f7-4729-8c9a-822a49e04278",
   "metadata": {},
   "outputs": [],
   "source": []
  },
  {
   "cell_type": "code",
   "execution_count": null,
   "id": "2464ed28-bf32-43cb-bc6a-aa11e62f5975",
   "metadata": {
    "scrolled": true
   },
   "outputs": [],
   "source": []
  },
  {
   "cell_type": "code",
   "execution_count": null,
   "id": "e81d770e-4b78-4a0d-9c9b-2d36b10ee8a1",
   "metadata": {},
   "outputs": [],
   "source": []
  },
  {
   "cell_type": "code",
   "execution_count": null,
   "id": "0ee189eb-7feb-43b2-b8b3-4b892aa2643b",
   "metadata": {},
   "outputs": [],
   "source": [
    "\n",
    "\n"
   ]
  },
  {
   "cell_type": "code",
   "execution_count": null,
   "id": "1d01a433-a8fb-45a3-84ee-1d4d032b64c9",
   "metadata": {},
   "outputs": [],
   "source": []
  },
  {
   "cell_type": "markdown",
   "id": "8d1adaad-0a03-4391-83ef-e3a9a0589947",
   "metadata": {},
   "source": [
    "# Step 2: Split Data into Training, Validation, and Test Sets\n",
    "# Split the data into:\n",
    "\n",
    "# Training (70%): For model training.\n",
    "\n",
    "# Validation (15%): For hyperparameter tuning.\n",
    "\n",
    "# Test (15%): For final evaluation.\n",
    "\n"
   ]
  },
  {
   "cell_type": "code",
   "execution_count": null,
   "id": "923384b3-661d-4205-a053-c8a9c60875d0",
   "metadata": {},
   "outputs": [],
   "source": []
  },
  {
   "cell_type": "code",
   "execution_count": null,
   "id": "2d09609d-7364-4da3-b57d-39b4ddbad351",
   "metadata": {},
   "outputs": [],
   "source": []
  },
  {
   "cell_type": "code",
   "execution_count": null,
   "id": "d4bacbed-69cc-4c5e-b21b-d489bda93027",
   "metadata": {},
   "outputs": [],
   "source": []
  },
  {
   "cell_type": "code",
   "execution_count": null,
   "id": "708b1b0f-3c94-4797-81ad-cb3df10a50fb",
   "metadata": {},
   "outputs": [],
   "source": []
  },
  {
   "cell_type": "code",
   "execution_count": null,
   "id": "0cfd3395-5e17-4c0c-b13a-16b2d3e777f2",
   "metadata": {},
   "outputs": [],
   "source": []
  },
  {
   "cell_type": "code",
   "execution_count": null,
   "id": "c18ed24c-f630-4734-a114-7d586dcf48ad",
   "metadata": {},
   "outputs": [],
   "source": []
  },
  {
   "cell_type": "code",
   "execution_count": null,
   "id": "b8aa4357-42e5-46d9-8931-ef6197386baa",
   "metadata": {},
   "outputs": [],
   "source": []
  },
  {
   "cell_type": "code",
   "execution_count": null,
   "id": "f62dc317-6db4-485d-abe2-1583843862e0",
   "metadata": {},
   "outputs": [],
   "source": []
  },
  {
   "cell_type": "code",
   "execution_count": null,
   "id": "2024b19a-4906-4830-a0dd-4631577414d9",
   "metadata": {},
   "outputs": [],
   "source": []
  },
  {
   "cell_type": "code",
   "execution_count": null,
   "id": "cb3ecd7f-24d4-4bc5-a7a5-8c98353362da",
   "metadata": {},
   "outputs": [],
   "source": []
  },
  {
   "cell_type": "code",
   "execution_count": null,
   "id": "0cf350a2-5874-4992-a02d-2063c27fd8d3",
   "metadata": {},
   "outputs": [],
   "source": []
  },
  {
   "cell_type": "code",
   "execution_count": null,
   "id": "449091c6-eac9-48cb-a71a-f98c5ee28a36",
   "metadata": {},
   "outputs": [],
   "source": []
  },
  {
   "cell_type": "code",
   "execution_count": null,
   "id": "00fd08bc",
   "metadata": {},
   "outputs": [],
   "source": []
  },
  {
   "cell_type": "code",
   "execution_count": null,
   "id": "97f681a8-a1d2-4959-9e1a-7cec44dc784b",
   "metadata": {},
   "outputs": [],
   "source": []
  },
  {
   "cell_type": "code",
   "execution_count": null,
   "id": "58aa7db9-c68a-4c26-93c0-f00a47220abc",
   "metadata": {},
   "outputs": [],
   "source": []
  },
  {
   "cell_type": "code",
   "execution_count": null,
   "id": "f81c447b-632b-4c03-a5f8-53ebad4241fc",
   "metadata": {},
   "outputs": [],
   "source": []
  },
  {
   "cell_type": "code",
   "execution_count": null,
   "id": "cd438e77-505e-4766-a3f8-87e1071643cc",
   "metadata": {},
   "outputs": [],
   "source": []
  },
  {
   "cell_type": "code",
   "execution_count": null,
   "id": "20d35bd2-2897-47c0-add4-12302d84f1a5",
   "metadata": {},
   "outputs": [],
   "source": []
  },
  {
   "cell_type": "code",
   "execution_count": null,
   "id": "b47bee4f",
   "metadata": {},
   "outputs": [],
   "source": []
  }
 ],
 "metadata": {
  "kernelspec": {
   "display_name": "Python 3 (ipykernel)",
   "language": "python",
   "name": "python3"
  },
  "language_info": {
   "codemirror_mode": {
    "name": "ipython",
    "version": 3
   },
   "file_extension": ".py",
   "mimetype": "text/x-python",
   "name": "python",
   "nbconvert_exporter": "python",
   "pygments_lexer": "ipython3",
   "version": "3.11.4"
  }
 },
 "nbformat": 4,
 "nbformat_minor": 5
}
